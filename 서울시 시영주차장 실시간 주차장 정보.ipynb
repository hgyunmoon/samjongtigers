{
 "cells": [
  {
   "cell_type": "markdown",
   "metadata": {},
   "source": [
    "오픈 API 가져오기"
   ]
  },
  {
   "cell_type": "code",
   "execution_count": 13,
   "metadata": {},
   "outputs": [],
   "source": [
    "import pandas as pd\n",
    "import numpy as np\n",
    "import urllib.request #URL 요청을 통해 데이터를 가져오는데 사용\n",
    "import json #json 데이터를 처리하는 데 사용\n",
    "import requests"
   ]
  },
  {
   "cell_type": "code",
   "execution_count": 31,
   "metadata": {},
   "outputs": [],
   "source": [
    "#인증키와 주소\n",
    "Key = '707979614c6c696d34375271786446'\n",
    "start = 1\n",
    "end = 1000\n",
    "# url = f'http://openapi.seoul.go.kr:8088/{Key}/xml/GetParkingInfo/{start}/{end}/'\n",
    "\n",
    "url = f'http://openapi.seoul.go.kr:8088/{Key}/json/GetParkingInfo/1/5/'"
   ]
  },
  {
   "cell_type": "code",
   "execution_count": 32,
   "metadata": {},
   "outputs": [
    {
     "name": "stdout",
     "output_type": "stream",
     "text": [
      "{\"GetParkingInfo\":{\"list_total_count\":1875,\"RESULT\":{\"CODE\":\"INFO-000\",\"MESSAGE\":\"정상 처리되었습니다\"},\"row\":[{\"PKLT_CD\":\"171721\",\"PKLT_NM\":\"세종로 공영주차장(시)\",\"ADDR\":\"종로구 세종로 80-1\",\"PKLT_TYPE\":\"NW\",\"PRK_TYPE_NM\":\"노외 주차장\",\"OPER_SE\":\"1\",\"OPER_SE_NM\":\"시간제 주차장\",\"TELNO\":\"02-2290-6566\",\"PRK_STTS_YN\":\"1\",\"PRK_STTS_NM\":\"현재~20분이내 연계데이터 존재(현재 주차대수 표현)\",\"TPKCT\":1260.0,\"NOW_PRK_VHCL_CNT\":747.0,\"NOW_PRK_VHCL_UPDT_TM\":\"2025-02-04 16:07:10\",\"PAY_YN\":\"Y\",\"PAY_YN_NM\":\"유료\",\"NGHT_PAY_YN\":\"N\",\"NGHT_PAY_YN_NM\":\"야간 미개방\",\"WD_OPER_BGNG_TM\":\"0000\",\"WD_OPER_END_TM\":\"2400\",\"WE_OPER_BGNG_TM\":\"0000\",\"WE_OPER_END_TM\":\"2400\",\"LHLDY_OPER_BGNG_TM\":\"0000\",\"LHLDY_OPER_END_TM\":\"2400\",\"SAT_CHGD_FREE_SE\":\"N\",\"SAT_CHGD_FREE_NM\":\"무료\",\"LHLDY_CHGD_FREE_SE\":\"N\",\"LHLDY_CHGD_FREE_SE_NAME\":\"무료\",\"PRD_AMT\":\"176000\",\"STRT_PKLT_MNG_NO\":\"\",\"BSC_PRK_CRG\":430.0,\"BSC_PRK_HR\":5.0,\"ADD_PRK_CRG\":430.0,\"ADD_PRK_HR\":5.0,\"BUS_BSC_PRK_CRG\":0.0,\"BUS_BSC_PRK_HR\":0.0,\"BUS_ADD_PRK_HR\":0.0,\"BUS_ADD_PRK_CRG\":0.0,\"DAY_MAX_CRG\":30900.0,\"LAT\":37.57340269,\"LOT\":126.97588429,\"SHRN_PKLT_MNG_NM\":\"\",\"SHRN_PKLT_MNG_URL\":\"\",\"SHRN_PKLT_YN\":\"N\",\"SHRN_PKLT_ETC\":\"\"},{\"PKLT_CD\":\"171730\",\"PKLT_NM\":\"종묘주차장 공영주차장(시)\",\"ADDR\":\"종로구 훈정동 2-0\",\"PKLT_TYPE\":\"NW\",\"PRK_TYPE_NM\":\"노외 주차장\",\"OPER_SE\":\"1\",\"OPER_SE_NM\":\"시간제 주차장\",\"TELNO\":\"02-2290-6166\",\"PRK_STTS_YN\":\"1\",\"PRK_STTS_NM\":\"현재~20분이내 연계데이터 존재(현재 주차대수 표현)\",\"TPKCT\":1317.0,\"NOW_PRK_VHCL_CNT\":1133.0,\"NOW_PRK_VHCL_UPDT_TM\":\"2025-02-04 16:07:10\",\"PAY_YN\":\"Y\",\"PAY_YN_NM\":\"유료\",\"NGHT_PAY_YN\":\"N\",\"NGHT_PAY_YN_NM\":\"야간 미개방\",\"WD_OPER_BGNG_TM\":\"0000\",\"WD_OPER_END_TM\":\"2400\",\"WE_OPER_BGNG_TM\":\"0000\",\"WE_OPER_END_TM\":\"2400\",\"LHLDY_OPER_BGNG_TM\":\"0000\",\"LHLDY_OPER_END_TM\":\"2400\",\"SAT_CHGD_FREE_SE\":\"N\",\"SAT_CHGD_FREE_NM\":\"무료\",\"LHLDY_CHGD_FREE_SE\":\"N\",\"LHLDY_CHGD_FREE_SE_NAME\":\"무료\",\"PRD_AMT\":\"175000\",\"STRT_PKLT_MNG_NO\":\"\",\"BSC_PRK_CRG\":400.0,\"BSC_PRK_HR\":5.0,\"ADD_PRK_CRG\":400.0,\"ADD_PRK_HR\":5.0,\"BUS_BSC_PRK_CRG\":0.0,\"BUS_BSC_PRK_HR\":0.0,\"BUS_ADD_PRK_HR\":0.0,\"BUS_ADD_PRK_CRG\":0.0,\"DAY_MAX_CRG\":28800.0,\"LAT\":37.57150398,\"LOT\":126.99496888,\"SHRN_PKLT_MNG_NM\":\"\",\"SHRN_PKLT_MNG_URL\":\"\",\"SHRN_PKLT_YN\":\"N\",\"SHRN_PKLT_ETC\":\"\"},{\"PKLT_CD\":\"171900\",\"PKLT_NM\":\"훈련원공원 공영주차장(시)\",\"ADDR\":\"중구 을지로5가 40-3\",\"PKLT_TYPE\":\"NW\",\"PRK_TYPE_NM\":\"노외 주차장\",\"OPER_SE\":\"1\",\"OPER_SE_NM\":\"시간제 주차장\",\"TELNO\":\"02-3405-4597\",\"PRK_STTS_YN\":\"1\",\"PRK_STTS_NM\":\"현재~20분이내 연계데이터 존재(현재 주차대수 표현)\",\"TPKCT\":873.0,\"NOW_PRK_VHCL_CNT\":663.0,\"NOW_PRK_VHCL_UPDT_TM\":\"2025-02-04 16:07:10\",\"PAY_YN\":\"Y\",\"PAY_YN_NM\":\"유료\",\"NGHT_PAY_YN\":\"N\",\"NGHT_PAY_YN_NM\":\"야간 미개방\",\"WD_OPER_BGNG_TM\":\"0000\",\"WD_OPER_END_TM\":\"2400\",\"WE_OPER_BGNG_TM\":\"0000\",\"WE_OPER_END_TM\":\"2400\",\"LHLDY_OPER_BGNG_TM\":\"0000\",\"LHLDY_OPER_END_TM\":\"2400\",\"SAT_CHGD_FREE_SE\":\"N\",\"SAT_CHGD_FREE_NM\":\"무료\",\"LHLDY_CHGD_FREE_SE\":\"N\",\"LHLDY_CHGD_FREE_SE_NAME\":\"무료\",\"PRD_AMT\":\"176000\",\"STRT_PKLT_MNG_NO\":\"\",\"BSC_PRK_CRG\":550.0,\"BSC_PRK_HR\":5.0,\"ADD_PRK_CRG\":550.0,\"ADD_PRK_HR\":5.0,\"BUS_BSC_PRK_CRG\":0.0,\"BUS_BSC_PRK_HR\":0.0,\"BUS_ADD_PRK_HR\":0.0,\"BUS_ADD_PRK_CRG\":0.0,\"DAY_MAX_CRG\":39600.0,\"LAT\":37.56740014,\"LOT\":127.00352062,\"SHRN_PKLT_MNG_NM\":\"\",\"SHRN_PKLT_MNG_URL\":\"\",\"SHRN_PKLT_YN\":\"N\",\"SHRN_PKLT_ETC\":\"\"},{\"PKLT_CD\":\"172051\",\"PKLT_NM\":\"한강진역 공영주차장(시)\",\"ADDR\":\"용산구 한남동 728-27\",\"PKLT_TYPE\":\"NW\",\"PRK_TYPE_NM\":\"노외 주차장\",\"OPER_SE\":\"1\",\"OPER_SE_NM\":\"시간제 주차장\",\"TELNO\":\"02-795-6406\",\"PRK_STTS_YN\":\"1\",\"PRK_STTS_NM\":\"현재~20분이내 연계데이터 존재(현재 주차대수 표현)\",\"TPKCT\":174.0,\"NOW_PRK_VHCL_CNT\":114.0,\"NOW_PRK_VHCL_UPDT_TM\":\"2025-02-04 16:07:10\",\"PAY_YN\":\"Y\",\"PAY_YN_NM\":\"유료\",\"NGHT_PAY_YN\":\"N\",\"NGHT_PAY_YN_NM\":\"야간 미개방\",\"WD_OPER_BGNG_TM\":\"0000\",\"WD_OPER_END_TM\":\"2400\",\"WE_OPER_BGNG_TM\":\"0000\",\"WE_OPER_END_TM\":\"2400\",\"LHLDY_OPER_BGNG_TM\":\"0000\",\"LHLDY_OPER_END_TM\":\"2400\",\"SAT_CHGD_FREE_SE\":\"N\",\"SAT_CHGD_FREE_NM\":\"무료\",\"LHLDY_CHGD_FREE_SE\":\"N\",\"LHLDY_CHGD_FREE_SE_NAME\":\"무료\",\"PRD_AMT\":\"168000\",\"STRT_PKLT_MNG_NO\":\"\",\"BSC_PRK_CRG\":400.0,\"BSC_PRK_HR\":5.0,\"ADD_PRK_CRG\":400.0,\"ADD_PRK_HR\":5.0,\"BUS_BSC_PRK_CRG\":0.0,\"BUS_BSC_PRK_HR\":0.0,\"BUS_ADD_PRK_HR\":0.0,\"BUS_ADD_PRK_CRG\":0.0,\"DAY_MAX_CRG\":28800.0,\"LAT\":37.53952176,\"LOT\":127.00257963,\"SHRN_PKLT_MNG_NM\":\"\",\"SHRN_PKLT_MNG_URL\":\"\",\"SHRN_PKLT_YN\":\"N\",\"SHRN_PKLT_ETC\":\"\"},{\"PKLT_CD\":\"172065\",\"PKLT_NM\":\"용산주차빌딩 공영주차장(시)\",\"ADDR\":\"용산구 한강로2가 12-9\",\"PKLT_TYPE\":\"NW\",\"PRK_TYPE_NM\":\"노외 주차장\",\"OPER_SE\":\"1\",\"OPER_SE_NM\":\"시간제 주차장\",\"TELNO\":\"02-2290-6014\",\"PRK_STTS_YN\":\"1\",\"PRK_STTS_NM\":\"현재~20분이내 연계데이터 존재(현재 주차대수 표현)\",\"TPKCT\":561.0,\"NOW_PRK_VHCL_CNT\":300.0,\"NOW_PRK_VHCL_UPDT_TM\":\"2025-02-04 16:07:10\",\"PAY_YN\":\"Y\",\"PAY_YN_NM\":\"유료\",\"NGHT_PAY_YN\":\"N\",\"NGHT_PAY_YN_NM\":\"야간 미개방\",\"WD_OPER_BGNG_TM\":\"0000\",\"WD_OPER_END_TM\":\"2400\",\"WE_OPER_BGNG_TM\":\"0000\",\"WE_OPER_END_TM\":\"2400\",\"LHLDY_OPER_BGNG_TM\":\"0000\",\"LHLDY_OPER_END_TM\":\"2400\",\"SAT_CHGD_FREE_SE\":\"N\",\"SAT_CHGD_FREE_NM\":\"무료\",\"LHLDY_CHGD_FREE_SE\":\"N\",\"LHLDY_CHGD_FREE_SE_NAME\":\"무료\",\"PRD_AMT\":\"168000\",\"STRT_PKLT_MNG_NO\":\"\",\"BSC_PRK_CRG\":300.0,\"BSC_PRK_HR\":5.0,\"ADD_PRK_CRG\":300.0,\"ADD_PRK_HR\":5.0,\"BUS_BSC_PRK_CRG\":0.0,\"BUS_BSC_PRK_HR\":0.0,\"BUS_ADD_PRK_HR\":0.0,\"BUS_ADD_PRK_CRG\":0.0,\"DAY_MAX_CRG\":21600.0,\"LAT\":37.53436379,\"LOT\":126.96541818,\"SHRN_PKLT_MNG_NM\":\"\",\"SHRN_PKLT_MNG_URL\":\"\",\"SHRN_PKLT_YN\":\"N\",\"SHRN_PKLT_ETC\":\"\"}]}}\n"
     ]
    }
   ],
   "source": [
    "#데이터 가져오기\n",
    "response = urllib.request.urlopen(url)\n",
    "json_str = response.read().decode('utf-8')\n",
    "\n",
    "print(json_str)"
   ]
  },
  {
   "cell_type": "code",
   "execution_count": 33,
   "metadata": {},
   "outputs": [
    {
     "name": "stdout",
     "output_type": "stream",
     "text": [
      "<class 'dict'>\n"
     ]
    }
   ],
   "source": [
    "#딕셔너리로 변환\n",
    "json_object = json.loads(json_str)\n",
    "print(type(json_object))"
   ]
  },
  {
   "cell_type": "code",
   "execution_count": 35,
   "metadata": {},
   "outputs": [
    {
     "data": {
      "text/html": [
       "<div>\n",
       "<style scoped>\n",
       "    .dataframe tbody tr th:only-of-type {\n",
       "        vertical-align: middle;\n",
       "    }\n",
       "\n",
       "    .dataframe tbody tr th {\n",
       "        vertical-align: top;\n",
       "    }\n",
       "\n",
       "    .dataframe thead th {\n",
       "        text-align: right;\n",
       "    }\n",
       "</style>\n",
       "<table border=\"1\" class=\"dataframe\">\n",
       "  <thead>\n",
       "    <tr style=\"text-align: right;\">\n",
       "      <th></th>\n",
       "      <th>PKLT_CD</th>\n",
       "      <th>PKLT_NM</th>\n",
       "      <th>ADDR</th>\n",
       "      <th>PKLT_TYPE</th>\n",
       "      <th>PRK_TYPE_NM</th>\n",
       "      <th>OPER_SE</th>\n",
       "      <th>OPER_SE_NM</th>\n",
       "      <th>TELNO</th>\n",
       "      <th>PRK_STTS_YN</th>\n",
       "      <th>PRK_STTS_NM</th>\n",
       "      <th>...</th>\n",
       "      <th>BUS_BSC_PRK_HR</th>\n",
       "      <th>BUS_ADD_PRK_HR</th>\n",
       "      <th>BUS_ADD_PRK_CRG</th>\n",
       "      <th>DAY_MAX_CRG</th>\n",
       "      <th>LAT</th>\n",
       "      <th>LOT</th>\n",
       "      <th>SHRN_PKLT_MNG_NM</th>\n",
       "      <th>SHRN_PKLT_MNG_URL</th>\n",
       "      <th>SHRN_PKLT_YN</th>\n",
       "      <th>SHRN_PKLT_ETC</th>\n",
       "    </tr>\n",
       "  </thead>\n",
       "  <tbody>\n",
       "    <tr>\n",
       "      <th>0</th>\n",
       "      <td>171721</td>\n",
       "      <td>세종로 공영주차장(시)</td>\n",
       "      <td>종로구 세종로 80-1</td>\n",
       "      <td>NW</td>\n",
       "      <td>노외 주차장</td>\n",
       "      <td>1</td>\n",
       "      <td>시간제 주차장</td>\n",
       "      <td>02-2290-6566</td>\n",
       "      <td>1</td>\n",
       "      <td>현재~20분이내 연계데이터 존재(현재 주차대수 표현)</td>\n",
       "      <td>...</td>\n",
       "      <td>0.0</td>\n",
       "      <td>0.0</td>\n",
       "      <td>0.0</td>\n",
       "      <td>30900.0</td>\n",
       "      <td>37.573403</td>\n",
       "      <td>126.975884</td>\n",
       "      <td></td>\n",
       "      <td></td>\n",
       "      <td>N</td>\n",
       "      <td></td>\n",
       "    </tr>\n",
       "    <tr>\n",
       "      <th>1</th>\n",
       "      <td>171730</td>\n",
       "      <td>종묘주차장 공영주차장(시)</td>\n",
       "      <td>종로구 훈정동 2-0</td>\n",
       "      <td>NW</td>\n",
       "      <td>노외 주차장</td>\n",
       "      <td>1</td>\n",
       "      <td>시간제 주차장</td>\n",
       "      <td>02-2290-6166</td>\n",
       "      <td>1</td>\n",
       "      <td>현재~20분이내 연계데이터 존재(현재 주차대수 표현)</td>\n",
       "      <td>...</td>\n",
       "      <td>0.0</td>\n",
       "      <td>0.0</td>\n",
       "      <td>0.0</td>\n",
       "      <td>28800.0</td>\n",
       "      <td>37.571504</td>\n",
       "      <td>126.994969</td>\n",
       "      <td></td>\n",
       "      <td></td>\n",
       "      <td>N</td>\n",
       "      <td></td>\n",
       "    </tr>\n",
       "    <tr>\n",
       "      <th>2</th>\n",
       "      <td>171900</td>\n",
       "      <td>훈련원공원 공영주차장(시)</td>\n",
       "      <td>중구 을지로5가 40-3</td>\n",
       "      <td>NW</td>\n",
       "      <td>노외 주차장</td>\n",
       "      <td>1</td>\n",
       "      <td>시간제 주차장</td>\n",
       "      <td>02-3405-4597</td>\n",
       "      <td>1</td>\n",
       "      <td>현재~20분이내 연계데이터 존재(현재 주차대수 표현)</td>\n",
       "      <td>...</td>\n",
       "      <td>0.0</td>\n",
       "      <td>0.0</td>\n",
       "      <td>0.0</td>\n",
       "      <td>39600.0</td>\n",
       "      <td>37.567400</td>\n",
       "      <td>127.003521</td>\n",
       "      <td></td>\n",
       "      <td></td>\n",
       "      <td>N</td>\n",
       "      <td></td>\n",
       "    </tr>\n",
       "    <tr>\n",
       "      <th>3</th>\n",
       "      <td>172051</td>\n",
       "      <td>한강진역 공영주차장(시)</td>\n",
       "      <td>용산구 한남동 728-27</td>\n",
       "      <td>NW</td>\n",
       "      <td>노외 주차장</td>\n",
       "      <td>1</td>\n",
       "      <td>시간제 주차장</td>\n",
       "      <td>02-795-6406</td>\n",
       "      <td>1</td>\n",
       "      <td>현재~20분이내 연계데이터 존재(현재 주차대수 표현)</td>\n",
       "      <td>...</td>\n",
       "      <td>0.0</td>\n",
       "      <td>0.0</td>\n",
       "      <td>0.0</td>\n",
       "      <td>28800.0</td>\n",
       "      <td>37.539522</td>\n",
       "      <td>127.002580</td>\n",
       "      <td></td>\n",
       "      <td></td>\n",
       "      <td>N</td>\n",
       "      <td></td>\n",
       "    </tr>\n",
       "    <tr>\n",
       "      <th>4</th>\n",
       "      <td>172065</td>\n",
       "      <td>용산주차빌딩 공영주차장(시)</td>\n",
       "      <td>용산구 한강로2가 12-9</td>\n",
       "      <td>NW</td>\n",
       "      <td>노외 주차장</td>\n",
       "      <td>1</td>\n",
       "      <td>시간제 주차장</td>\n",
       "      <td>02-2290-6014</td>\n",
       "      <td>1</td>\n",
       "      <td>현재~20분이내 연계데이터 존재(현재 주차대수 표현)</td>\n",
       "      <td>...</td>\n",
       "      <td>0.0</td>\n",
       "      <td>0.0</td>\n",
       "      <td>0.0</td>\n",
       "      <td>21600.0</td>\n",
       "      <td>37.534364</td>\n",
       "      <td>126.965418</td>\n",
       "      <td></td>\n",
       "      <td></td>\n",
       "      <td>N</td>\n",
       "      <td></td>\n",
       "    </tr>\n",
       "  </tbody>\n",
       "</table>\n",
       "<p>5 rows × 44 columns</p>\n",
       "</div>"
      ],
      "text/plain": [
       "  PKLT_CD          PKLT_NM            ADDR PKLT_TYPE PRK_TYPE_NM OPER_SE  \\\n",
       "0  171721     세종로 공영주차장(시)    종로구 세종로 80-1        NW      노외 주차장       1   \n",
       "1  171730   종묘주차장 공영주차장(시)     종로구 훈정동 2-0        NW      노외 주차장       1   \n",
       "2  171900   훈련원공원 공영주차장(시)   중구 을지로5가 40-3        NW      노외 주차장       1   \n",
       "3  172051    한강진역 공영주차장(시)  용산구 한남동 728-27        NW      노외 주차장       1   \n",
       "4  172065  용산주차빌딩 공영주차장(시)  용산구 한강로2가 12-9        NW      노외 주차장       1   \n",
       "\n",
       "  OPER_SE_NM         TELNO PRK_STTS_YN                    PRK_STTS_NM  ...  \\\n",
       "0    시간제 주차장  02-2290-6566           1  현재~20분이내 연계데이터 존재(현재 주차대수 표현)  ...   \n",
       "1    시간제 주차장  02-2290-6166           1  현재~20분이내 연계데이터 존재(현재 주차대수 표현)  ...   \n",
       "2    시간제 주차장  02-3405-4597           1  현재~20분이내 연계데이터 존재(현재 주차대수 표현)  ...   \n",
       "3    시간제 주차장   02-795-6406           1  현재~20분이내 연계데이터 존재(현재 주차대수 표현)  ...   \n",
       "4    시간제 주차장  02-2290-6014           1  현재~20분이내 연계데이터 존재(현재 주차대수 표현)  ...   \n",
       "\n",
       "   BUS_BSC_PRK_HR  BUS_ADD_PRK_HR BUS_ADD_PRK_CRG DAY_MAX_CRG        LAT  \\\n",
       "0             0.0             0.0             0.0     30900.0  37.573403   \n",
       "1             0.0             0.0             0.0     28800.0  37.571504   \n",
       "2             0.0             0.0             0.0     39600.0  37.567400   \n",
       "3             0.0             0.0             0.0     28800.0  37.539522   \n",
       "4             0.0             0.0             0.0     21600.0  37.534364   \n",
       "\n",
       "          LOT SHRN_PKLT_MNG_NM SHRN_PKLT_MNG_URL SHRN_PKLT_YN SHRN_PKLT_ETC  \n",
       "0  126.975884                                               N                \n",
       "1  126.994969                                               N                \n",
       "2  127.003521                                               N                \n",
       "3  127.002580                                               N                \n",
       "4  126.965418                                               N                \n",
       "\n",
       "[5 rows x 44 columns]"
      ]
     },
     "execution_count": 35,
     "metadata": {},
     "output_type": "execute_result"
    }
   ],
   "source": [
    "#데이터프레임으로 변환\n",
    "subway = pd.json_normalize(json_object['GetParkingInfo']['row'])\n",
    "\n",
    "subway.head()"
   ]
  },
  {
   "cell_type": "code",
   "execution_count": 28,
   "metadata": {},
   "outputs": [
    {
     "ename": "AttributeError",
     "evalue": "module 'pandas' has no attribute '_normalize'",
     "output_type": "error",
     "traceback": [
      "\u001b[1;31m---------------------------------------------------------------------------\u001b[0m",
      "\u001b[1;31mAttributeError\u001b[0m                            Traceback (most recent call last)",
      "Cell \u001b[1;32mIn[28], line 2\u001b[0m\n\u001b[0;32m      1\u001b[0m \u001b[38;5;66;03m#데이터프레임으로 변환\u001b[39;00m\n\u001b[1;32m----> 2\u001b[0m parking \u001b[38;5;241m=\u001b[39m \u001b[43mpd\u001b[49m\u001b[38;5;241;43m.\u001b[39;49m\u001b[43m_normalize\u001b[49m(json_object[\u001b[38;5;124m'\u001b[39m\u001b[38;5;124mCardSubwayStatsNew\u001b[39m\u001b[38;5;124m'\u001b[39m][\u001b[38;5;124m'\u001b[39m\u001b[38;5;124mrow\u001b[39m\u001b[38;5;124m'\u001b[39m])\n\u001b[0;32m      4\u001b[0m parking\u001b[38;5;241m.\u001b[39mhead()\n",
      "\u001b[1;31mAttributeError\u001b[0m: module 'pandas' has no attribute '_normalize'"
     ]
    }
   ],
   "source": [
    "#데이터프레임으로 변환\n",
    "parking = pd._normalize(json_object['CardSubwayStatsNew']['row'])\n",
    "\n",
    "parking.head()"
   ]
  },
  {
   "cell_type": "code",
   "execution_count": null,
   "metadata": {},
   "outputs": [],
   "source": [
    "#데이터프레임으로 변환\n",
    "parking = pd.json_normalize(json_object['CardSubwayStatsNew']['row'])\n",
    "\n",
    "subway.head()"
   ]
  },
  {
   "cell_type": "code",
   "execution_count": null,
   "metadata": {},
   "outputs": [],
   "source": []
  }
 ],
 "metadata": {
  "kernelspec": {
   "display_name": "kpmg",
   "language": "python",
   "name": "python3"
  },
  "language_info": {
   "codemirror_mode": {
    "name": "ipython",
    "version": 3
   },
   "file_extension": ".py",
   "mimetype": "text/x-python",
   "name": "python",
   "nbconvert_exporter": "python",
   "pygments_lexer": "ipython3",
   "version": "3.12.8"
  }
 },
 "nbformat": 4,
 "nbformat_minor": 2
}
